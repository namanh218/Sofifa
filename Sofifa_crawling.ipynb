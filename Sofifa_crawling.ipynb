{
  "nbformat": 4,
  "nbformat_minor": 0,
  "metadata": {
    "colab": {
      "name": "Sofifa_crawling.ipynb",
      "provenance": [],
      "collapsed_sections": [],
      "authorship_tag": "ABX9TyPxy85cW5pXludT2IBQiBvL"
    },
    "kernelspec": {
      "name": "python3",
      "display_name": "Python 3"
    },
    "accelerator": "GPU"
  },
  "cells": [
    {
      "cell_type": "code",
      "metadata": {
        "id": "uOA1J44MZZOu",
        "colab_type": "code",
        "colab": {}
      },
      "source": [
        "#Import library\n",
        "import requests\n",
        "from bs4 import BeautifulSoup\n",
        "import json\n",
        "import pandas as pd \n",
        "import seaborn as sns\n",
        "import matplotlib.pyplot as plt\n",
        "import seaborn as sns"
      ],
      "execution_count": 0,
      "outputs": []
    },
    {
      "cell_type": "code",
      "metadata": {
        "id": "HXxGP4a3Zeov",
        "colab_type": "code",
        "colab": {}
      },
      "source": [
        "#Get the link\n",
        "try:\n",
        "  BASE_URL = 'https://sofifa.com/'\n",
        "  response = requests.get(BASE_URL)\n",
        "except Exception as err:\n",
        "  print(f'ERROR: {err}')"
      ],
      "execution_count": 0,
      "outputs": []
    },
    {
      "cell_type": "code",
      "metadata": {
        "id": "X0zaSQ6Vadkc",
        "colab_type": "code",
        "colab": {}
      },
      "source": [
        "soup = BeautifulSoup(response.text)"
      ],
      "execution_count": 0,
      "outputs": []
    },
    {
      "cell_type": "code",
      "metadata": {
        "id": "RY8un24mapDY",
        "colab_type": "code",
        "colab": {}
      },
      "source": [
        "#Find player\n",
        "players = soup.find_all('tr')"
      ],
      "execution_count": 0,
      "outputs": []
    },
    {
      "cell_type": "code",
      "metadata": {
        "id": "sjsca4ewccax",
        "colab_type": "code",
        "colab": {}
      },
      "source": [
        "#An array for all features\n",
        "ava, name, pos, age, ova, pot, team, val, wage = [], [], [], [], [], [], [], [], []\n",
        "for i in range(1 ,len(players)):\n",
        "    try:\n",
        "        ava.append(players[i].img['data-src'])\n",
        "        name.append(players[i].find('a', class_ = 'nowrap').string.strip())\n",
        "        pos.append(players[i].find_all('a', href_ = '')[2].string.strip())\n",
        "        age.append(players[i].find('td', class_ = 'col col-ae').string.strip())\n",
        "        ova.append(players[i].find('td', class_ = 'col col-oa').string.strip())\n",
        "        pot.append(players[i].find('td', class_ = 'col col-pt').string.strip())\n",
        "        team.append(players[i].find_all('a', href_ = '')[-1].string.strip())\n",
        "        val.append(players[i].find('td', class_ = 'col col-vl').string.strip())\n",
        "        wage.append(players[i].find('td', class_ = 'col col-wg').string.strip())\n",
        "\n",
        "    except:\n",
        "        print('pass')"
      ],
      "execution_count": 0,
      "outputs": []
    },
    {
      "cell_type": "code",
      "metadata": {
        "id": "QVMpAZRQxsnQ",
        "colab_type": "code",
        "colab": {}
      },
      "source": [
        "#Next page crawling\n",
        "offset = '?offset='\n",
        "for i in range(1, 1500):\n",
        "  try:\n",
        "    BASE_URL = BASE_URL+offset+str(60*i)\n",
        "    response = requests.get(BASE_URL)\n",
        "  except Exception as err:\n",
        "    print(f'ERROR: {err}')\n",
        "\n",
        "  soup = BeautifulSoup(response.text)\n",
        "  players = soup.find_all('tr')\n",
        "  for i in range(1 ,len(players)):\n",
        "    try:\n",
        "        ava.append(players[i].img['data-src'])\n",
        "        name.append(players[i].find('a', class_ = 'nowrap').string.strip())\n",
        "        pos.append(players[i].find_all('a', href_ = '')[2].string.strip())\n",
        "        age.append(players[i].find('td', class_ = 'col col-ae').string.strip())\n",
        "        ova.append(players[i].find('td', class_ = 'col col-oa').string.strip())\n",
        "        pot.append(players[i].find('td', class_ = 'col col-pt').string.strip())\n",
        "        team.append(players[i].find_all('a', href_ = '')[-1].string.strip())\n",
        "        val.append(players[i].find('td', class_ = 'col col-vl').string.strip())\n",
        "        wage.append(players[i].find('td', class_ = 'col col-wg').string.strip())\n",
        "\n",
        "    except:\n",
        "        print('pass')"
      ],
      "execution_count": 0,
      "outputs": []
    },
    {
      "cell_type": "code",
      "metadata": {
        "id": "xW5n2kXpetL6",
        "colab_type": "code",
        "colab": {}
      },
      "source": [
        "#Save to json\n",
        "d = list(zip(ava, name, pos, age, ova, pot, team, val, wage))\n",
        "\n",
        "with open('players.json', 'w') as file:\n",
        "    json.dump(d, file)"
      ],
      "execution_count": 0,
      "outputs": []
    },
    {
      "cell_type": "code",
      "metadata": {
        "id": "81fUinJOxpuq",
        "colab_type": "code",
        "colab": {}
      },
      "source": [
        "with open('players.json', 'r') as file:\n",
        "    reloaded = json.load(file)"
      ],
      "execution_count": 0,
      "outputs": []
    },
    {
      "cell_type": "code",
      "metadata": {
        "id": "dEgkCawD75Xk",
        "colab_type": "code",
        "colab": {}
      },
      "source": [
        "#Create dataframe\n",
        "df = pd.read_json('/content/players.json')\n",
        "df.columns = ['image', 'name', 'position', 'age', 'overall', 'potential', 'team', 'value', 'wage']"
      ],
      "execution_count": 0,
      "outputs": []
    },
    {
      "cell_type": "code",
      "metadata": {
        "id": "HMs4Ulwb9RcL",
        "colab_type": "code",
        "outputId": "ca8067f9-6f19-40c0-91bc-75354bf572e4",
        "colab": {
          "base_uri": "https://localhost:8080/",
          "height": 204
        }
      },
      "source": [
        "#Check first 5\n",
        "df.head(5)"
      ],
      "execution_count": 0,
      "outputs": [
        {
          "output_type": "execute_result",
          "data": {
            "text/html": [
              "<div>\n",
              "<style scoped>\n",
              "    .dataframe tbody tr th:only-of-type {\n",
              "        vertical-align: middle;\n",
              "    }\n",
              "\n",
              "    .dataframe tbody tr th {\n",
              "        vertical-align: top;\n",
              "    }\n",
              "\n",
              "    .dataframe thead th {\n",
              "        text-align: right;\n",
              "    }\n",
              "</style>\n",
              "<table border=\"1\" class=\"dataframe\">\n",
              "  <thead>\n",
              "    <tr style=\"text-align: right;\">\n",
              "      <th></th>\n",
              "      <th>image</th>\n",
              "      <th>name</th>\n",
              "      <th>position</th>\n",
              "      <th>age</th>\n",
              "      <th>overall</th>\n",
              "      <th>potential</th>\n",
              "      <th>team</th>\n",
              "      <th>value</th>\n",
              "      <th>wage</th>\n",
              "    </tr>\n",
              "  </thead>\n",
              "  <tbody>\n",
              "    <tr>\n",
              "      <th>0</th>\n",
              "      <td>https://cdn.sofifa.org/players/4/20/212523.png</td>\n",
              "      <td>Anderson Talisca</td>\n",
              "      <td>CAM</td>\n",
              "      <td>25</td>\n",
              "      <td>83</td>\n",
              "      <td>88</td>\n",
              "      <td>Guangzhou Evergrande Taobao FC</td>\n",
              "      <td>€34.5M</td>\n",
              "      <td>€38K</td>\n",
              "    </tr>\n",
              "    <tr>\n",
              "      <th>1</th>\n",
              "      <td>https://cdn.sofifa.org/players/4/20/212198.png</td>\n",
              "      <td>Bruno Fernandes</td>\n",
              "      <td>CAM</td>\n",
              "      <td>24</td>\n",
              "      <td>85</td>\n",
              "      <td>88</td>\n",
              "      <td>Sporting CP</td>\n",
              "      <td>€49M</td>\n",
              "      <td>€24K</td>\n",
              "    </tr>\n",
              "    <tr>\n",
              "      <th>2</th>\n",
              "      <td>https://cdn.sofifa.org/players/4/20/206517.png</td>\n",
              "      <td>J. Grealish</td>\n",
              "      <td>CAM</td>\n",
              "      <td>23</td>\n",
              "      <td>78</td>\n",
              "      <td>84</td>\n",
              "      <td>Aston Villa</td>\n",
              "      <td>€14M</td>\n",
              "      <td>€50K</td>\n",
              "    </tr>\n",
              "    <tr>\n",
              "      <th>3</th>\n",
              "      <td>https://cdn.sofifa.org/players/4/20/254544.png</td>\n",
              "      <td>Reinier</td>\n",
              "      <td>CF</td>\n",
              "      <td>17</td>\n",
              "      <td>72</td>\n",
              "      <td>90</td>\n",
              "      <td>Real Madrid</td>\n",
              "      <td>€6M</td>\n",
              "      <td>€17K</td>\n",
              "    </tr>\n",
              "    <tr>\n",
              "      <th>4</th>\n",
              "      <td>https://cdn.sofifa.org/players/4/20/225953.png</td>\n",
              "      <td>S. Bergwijn</td>\n",
              "      <td>RW</td>\n",
              "      <td>21</td>\n",
              "      <td>82</td>\n",
              "      <td>87</td>\n",
              "      <td>PSV</td>\n",
              "      <td>€30M</td>\n",
              "      <td>€23K</td>\n",
              "    </tr>\n",
              "  </tbody>\n",
              "</table>\n",
              "</div>"
            ],
            "text/plain": [
              "                                            image  ...  wage\n",
              "0  https://cdn.sofifa.org/players/4/20/212523.png  ...  €38K\n",
              "1  https://cdn.sofifa.org/players/4/20/212198.png  ...  €24K\n",
              "2  https://cdn.sofifa.org/players/4/20/206517.png  ...  €50K\n",
              "3  https://cdn.sofifa.org/players/4/20/254544.png  ...  €17K\n",
              "4  https://cdn.sofifa.org/players/4/20/225953.png  ...  €23K\n",
              "\n",
              "[5 rows x 9 columns]"
            ]
          },
          "metadata": {
            "tags": []
          },
          "execution_count": 12
        }
      ]
    },
    {
      "cell_type": "code",
      "metadata": {
        "id": "k-CTAq45-BXZ",
        "colab_type": "code",
        "colab": {}
      },
      "source": [
        "#Check info\n",
        "df.info()"
      ],
      "execution_count": 0,
      "outputs": []
    },
    {
      "cell_type": "code",
      "metadata": {
        "id": "t3lTZeGE-qzN",
        "colab_type": "code",
        "colab": {}
      },
      "source": [
        "#Check describe\n",
        "df.describe()"
      ],
      "execution_count": 0,
      "outputs": []
    },
    {
      "cell_type": "code",
      "metadata": {
        "id": "luR0J6SuBEYS",
        "colab_type": "code",
        "colab": {}
      },
      "source": [
        "#Delete symbol\n",
        "def del_euro(serie):\n",
        "  for i in range(len(serie)):\n",
        "    serie[i] = serie[i].strip('€')"
      ],
      "execution_count": 0,
      "outputs": []
    },
    {
      "cell_type": "code",
      "metadata": {
        "id": "7SVF2tZ4Bmm-",
        "colab_type": "code",
        "colab": {}
      },
      "source": [
        "del_euro(df['value'])\n",
        "del_euro(df['wage'])"
      ],
      "execution_count": 0,
      "outputs": []
    },
    {
      "cell_type": "code",
      "metadata": {
        "id": "s0D-oSuiDgSh",
        "colab_type": "code",
        "colab": {}
      },
      "source": [
        "#Change float to int\n",
        "a = df['value']\n",
        "for i in range(len(a)):\n",
        "  if 'M' in a[i]:\n",
        "    b = a[i].strip('M')\n",
        "    a[i] = float(b)*1000000\n",
        "  else:\n",
        "    c = a[i].strip('K')\n",
        "    a[i] = float(c) * 1000\n",
        "    "
      ],
      "execution_count": 0,
      "outputs": []
    },
    {
      "cell_type": "code",
      "metadata": {
        "id": "hnqXG7yKJ5ha",
        "colab_type": "code",
        "colab": {}
      },
      "source": [
        "# Change float to int\n",
        "d = df['wage']\n",
        "for i in range(len(d)):\n",
        "  f = d[i].strip('K')\n",
        "  d[i] = float(f) * 1000"
      ],
      "execution_count": 0,
      "outputs": []
    },
    {
      "cell_type": "code",
      "metadata": {
        "id": "2Xi5NCkBGapG",
        "colab_type": "code",
        "colab": {}
      },
      "source": [
        "#Change type to int64\n",
        "df['value'] = df['value'].astype('int64')\n",
        "df['wage'] = df['wage'].astype('int64')"
      ],
      "execution_count": 0,
      "outputs": []
    },
    {
      "cell_type": "code",
      "metadata": {
        "id": "Y64kIoNiKlKU",
        "colab_type": "code",
        "colab": {}
      },
      "source": [
        "#Check corr\n",
        "df.corr()"
      ],
      "execution_count": 0,
      "outputs": []
    },
    {
      "cell_type": "code",
      "metadata": {
        "id": "XAdzaw86oYYi",
        "colab_type": "code",
        "colab": {}
      },
      "source": [
        "#Show heatmap\n",
        "sns.heatmap(df.corr())"
      ],
      "execution_count": 0,
      "outputs": []
    },
    {
      "cell_type": "code",
      "metadata": {
        "id": "1n7PuMTGLFVW",
        "colab_type": "code",
        "colab": {}
      },
      "source": [
        "#Delete not relate column\n",
        "df.drop(['image', 'team'], axis = 1, inplace=True)   "
      ],
      "execution_count": 0,
      "outputs": []
    },
    {
      "cell_type": "code",
      "metadata": {
        "id": "-RWeylR0lbS8",
        "colab_type": "code",
        "colab": {}
      },
      "source": [
        "#Plot the value and position\n",
        "plt.figure(figsize = (15, 10))\n",
        "plt.scatter(df['position'], df['value'], color = 'red')\n",
        "plt.show()"
      ],
      "execution_count": 0,
      "outputs": []
    },
    {
      "cell_type": "code",
      "metadata": {
        "id": "h1v6vUTdmf85",
        "colab_type": "code",
        "colab": {}
      },
      "source": [
        "plt.figure(figsize=(15,15))\n",
        "plt.scatter(df['overall'], df['value'], color = 'red')"
      ],
      "execution_count": 0,
      "outputs": []
    }
  ]
}